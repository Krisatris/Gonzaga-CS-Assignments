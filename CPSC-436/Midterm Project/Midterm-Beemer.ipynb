{
 "cells": [
  {
   "cell_type": "markdown",
   "id": "ead255d7",
   "metadata": {},
   "source": [
    "# Midterm Project\n",
    "Linden Beemer - CPSC 436 - Fall 2022"
   ]
  },
  {
   "cell_type": "markdown",
   "id": "ff25a3f7",
   "metadata": {},
   "source": [
    "## 1 - Import Statements\n",
    "This project uses numpy and matplotlib in order to streamline scientific computing and plotting graphs of data"
   ]
  },
  {
   "cell_type": "code",
   "execution_count": 3,
   "id": "a119030d",
   "metadata": {},
   "outputs": [],
   "source": [
    "import numpy as np\n",
    "import matplotlib.pyplot as plt\n",
    "import copy\n",
    "import math"
   ]
  },
  {
   "cell_type": "markdown",
   "id": "216ad8d2",
   "metadata": {},
   "source": [
    "## 2 - Dataset\n",
    "This project uses data from the University of Wisconsin on breast cancer cells. There are 569 instances in the set, each having 32 features (ID, diagnosis, and 30 real-valued input features). The goal with this data is to create a model that is 95% accurate to the actual result given."
   ]
  },
  {
   "cell_type": "markdown",
   "id": "5e9a3922",
   "metadata": {},
   "source": [
    "### 2.1 Loading the data\n",
    "The variables used for storing the data are as follows:\n",
    "- ``X_train`` contains 30 features detailing the mean, standard error, and the \"worst\" (largest) mean of the radius, texture, perimter, area, smoothness, compactness, concavity, concave points, symmetry, and cractal dimension of potential breast cancer cells\n",
    "- ``y_train`` is the diagnosis decision\n",
    "    - ``y_train = 1`` when a 'M' indicating malignant is seen \n",
    "    - ``y_train = 0`` when a 'B' indicating benign is seen\n",
    "- Both ``X_train`` and ``y_train`` are numpy arrays."
   ]
  },
  {
   "cell_type": "code",
   "execution_count": 4,
   "id": "0383007b",
   "metadata": {},
   "outputs": [],
   "source": [
    "def load_data(filename):\n",
    "    data = np.genfromtxt(filename, delimiter=\",\")\n",
    "    X = data[:, 2:]\n",
    "    y_data = np.genfromtxt(filename, delimiter=\",\", usecols=(1), dtype=None, encoding=None)\n",
    "    y = np.zeros(569)\n",
    "    y[y_data == 'M'] = 1.\n",
    "    \n",
    "    return X, y"
   ]
  },
  {
   "cell_type": "markdown",
   "id": "e220523a",
   "metadata": {},
   "source": [
    "*As a side note, I struggled to get numpy arrays to work with the mis-matched types in this data, which is why this data import looks a little odd. I'm sure I could do this in a more efficient way but this was what gave me the fewest errors importing both characters and floats."
   ]
  },
  {
   "cell_type": "code",
   "execution_count": 29,
   "id": "782b4433",
   "metadata": {},
   "outputs": [
    {
     "name": "stdout",
     "output_type": "stream",
     "text": [
      "First two elements in X_train are:\n",
      " [[1.799e+01 1.038e+01 1.228e+02 1.001e+03 1.184e-01 2.776e-01 3.001e-01\n",
      "  1.471e-01 2.419e-01 7.871e-02 1.095e+00 9.053e-01 8.589e+00 1.534e+02\n",
      "  6.399e-03 4.904e-02 5.373e-02 1.587e-02 3.003e-02 6.193e-03 2.538e+01\n",
      "  1.733e+01 1.846e+02 2.019e+03 1.622e-01 6.656e-01 7.119e-01 2.654e-01\n",
      "  4.601e-01 1.189e-01]\n",
      " [2.057e+01 1.777e+01 1.329e+02 1.326e+03 8.474e-02 7.864e-02 8.690e-02\n",
      "  7.017e-02 1.812e-01 5.667e-02 5.435e-01 7.339e-01 3.398e+00 7.408e+01\n",
      "  5.225e-03 1.308e-02 1.860e-02 1.340e-02 1.389e-02 3.532e-03 2.499e+01\n",
      "  2.341e+01 1.588e+02 1.956e+03 1.238e-01 1.866e-01 2.416e-01 1.860e-01\n",
      "  2.750e-01 8.902e-02]]\n",
      "Type of X_train: <class 'numpy.ndarray'>\n",
      "First five elements in y_train are:\n",
      " [1. 1. 1. 1. 1.]\n",
      "Type of y_train: <class 'numpy.ndarray'>\n"
     ]
    }
   ],
   "source": [
    "# load and view some of the dataset\n",
    "\n",
    "X_train, y_train = load_data(\"./data/wdbc.data\")\n",
    "\n",
    "print(\"First two elements in X_train are:\\n\", X_train[:2])\n",
    "print(\"Type of X_train:\",type(X_train))\n",
    "\n",
    "print(\"First five elements in y_train are:\\n\", y_train[:5])\n",
    "print(\"Type of y_train:\",type(y_train))"
   ]
  },
  {
   "cell_type": "code",
   "execution_count": 30,
   "id": "8d0d17b9",
   "metadata": {},
   "outputs": [
    {
     "name": "stdout",
     "output_type": "stream",
     "text": [
      "The shape of X_train is: (569, 30)\n",
      "The shape of y_train is: (569,)\n",
      "We have m = 569 training examples\n"
     ]
    }
   ],
   "source": [
    "print(\"The shape of X_train is: \" + str(X_train.shape))\n",
    "print(\"The shape of y_train is: \" + str(y_train.shape))\n",
    "print(\"We have m = %d training examples\" % (len(y_train)))"
   ]
  },
  {
   "cell_type": "markdown",
   "id": "2d150648",
   "metadata": {},
   "source": [
    "## 3 - Z-Score normalization\n",
    "Z-score normalization gives all features in the table a mean of 0 and a standard deviation of 1. This makes it less likely that certain features are given more weight than others when modeled. This code is adapted from homework 4."
   ]
  },
  {
   "cell_type": "code",
   "execution_count": 31,
   "id": "452ddc89",
   "metadata": {},
   "outputs": [],
   "source": [
    "def zscore_normalize_features(X):\n",
    "    \"\"\"\n",
    "    Args:\n",
    "        X (ndarray (m, n))      : input data, m examples, n features\n",
    "        \n",
    "    Returns:\n",
    "        X_norm (ndarray (m, n)) : input normalized by column\n",
    "        mu (ndarray (n,))       : mean of each feature\n",
    "        sigma (ndarray (n,))    : standard deviation of each feature\n",
    "    \"\"\"\n",
    "    mu = np.mean(X, axis=0)\n",
    "    sigma = np.std(X, axis=0)\n",
    "    X_norm = (X - mu) / sigma\n",
    "    \n",
    "    return(X_norm, mu, sigma)"
   ]
  },
  {
   "cell_type": "code",
   "execution_count": 32,
   "id": "0f16c533",
   "metadata": {},
   "outputs": [
    {
     "name": "stdout",
     "output_type": "stream",
     "text": [
      "X_mu = [1.41272917e+01 1.92896485e+01 9.19690334e+01 6.54889104e+02\n",
      " 9.63602812e-02], \n",
      "X_sigma = [3.52095076e+00 4.29725464e+00 2.42776193e+01 3.51604754e+02\n",
      " 1.40517641e-02]\n",
      "\n",
      "first two normalized datapoints:\n",
      " [[ 1.09706398e+00 -2.07333501e+00  1.26993369e+00  9.84374905e-01\n",
      "   1.56846633e+00  3.28351467e+00  2.65287398e+00  2.53247522e+00\n",
      "   2.21751501e+00  2.25574689e+00  2.48973393e+00 -5.65265059e-01\n",
      "   2.83303087e+00  2.48757756e+00 -2.14001647e-01  1.31686157e+00\n",
      "   7.24026158e-01  6.60819941e-01  1.14875667e+00  9.07083081e-01\n",
      "   1.88668963e+00 -1.35929347e+00  2.30360062e+00  2.00123749e+00\n",
      "   1.30768627e+00  2.61666502e+00  2.10952635e+00  2.29607613e+00\n",
      "   2.75062224e+00  1.93701461e+00]\n",
      " [ 1.82982061e+00 -3.53632408e-01  1.68595471e+00  1.90870825e+00\n",
      "  -8.26962447e-01 -4.87071673e-01 -2.38458552e-02  5.48144156e-01\n",
      "   1.39236330e-03 -8.68652457e-01  4.99254601e-01 -8.76243603e-01\n",
      "   2.63326966e-01  7.42401948e-01 -6.05350847e-01 -6.92926270e-01\n",
      "  -4.40780058e-01  2.60162067e-01 -8.05450380e-01 -9.94437403e-02\n",
      "   1.80592744e+00 -3.69203222e-01  1.53512599e+00  1.89048899e+00\n",
      "  -3.75611957e-01 -4.30444219e-01 -1.46748968e-01  1.08708430e+00\n",
      "  -2.43889668e-01  2.81189987e-01]]\n"
     ]
    }
   ],
   "source": [
    "X_train, X_mu, X_sigma = zscore_normalize_features(X_train)\n",
    "print(f\"X_mu = {X_mu[:5]}, \\nX_sigma = {X_sigma[:5]}\\n\")\n",
    "print(\"first two normalized datapoints:\\n\", X_train[:2])"
   ]
  },
  {
   "cell_type": "markdown",
   "id": "e3bd55a7",
   "metadata": {},
   "source": [
    "## 4 - Normalization in computing cost and gradient descent\n",
    "Because there are so many features present in this dataset, it is important we minimize the weight of certain ones in order to prevent overfitting. We do this by using a specialized cost and gradient descent equation. I will be using a logistic regression model, with an added regularization parameter in the computing cost and gradient descent functions."
   ]
  },
  {
   "cell_type": "markdown",
   "id": "d7b15add",
   "metadata": {},
   "source": [
    "### 4.1 - Sigmoid function implementation\n",
    "I will be implementing the sigmoid function I wrote in homework 5 to shorten my code and make it more readable. Evaluating this ```sigmoid(0)``` should give me exactly 0.5, as shown below."
   ]
  },
  {
   "cell_type": "code",
   "execution_count": 35,
   "id": "9815d08c",
   "metadata": {},
   "outputs": [],
   "source": [
    "def sigmoid(z):\n",
    "    \"\"\"\n",
    "    Compute the sigmoid of z\n",
    "\n",
    "    Args:\n",
    "        z (ndarray): A scalar, numpy array of any size.\n",
    "\n",
    "    Returns:\n",
    "        g (ndarray): sigmoid(z), with the same shape as z\n",
    "         \n",
    "    \"\"\"\n",
    "          \n",
    "    if(isinstance(z, int) or isinstance(z, float)):\n",
    "        g = 1 / (1 + np.exp(-1 * z))\n",
    "    else:\n",
    "        n = z.shape[0]\n",
    "        g = np.zeros(n)\n",
    "        for i in range(n):\n",
    "            g[i] = 1 / (1 + np.exp(-1 * z[i])) \n",
    "    \n",
    "    return g"
   ]
  },
  {
   "cell_type": "code",
   "execution_count": 36,
   "id": "06b84eda",
   "metadata": {},
   "outputs": [
    {
     "name": "stdout",
     "output_type": "stream",
     "text": [
      "sigmoid(0) = 0.5\n"
     ]
    }
   ],
   "source": [
    "print (\"sigmoid(0) = \" + str(sigmoid(0)))"
   ]
  },
  {
   "cell_type": "markdown",
   "id": "2952cc7b",
   "metadata": {},
   "source": [
    "### 4.2 - Logisitic Cost Function with Regularization\n",
    "Here, I implement the compute_cost function from homework 5, this time making use of the lambda placeholder that was present but unused in the last homework."
   ]
  },
  {
   "cell_type": "code",
   "execution_count": 37,
   "id": "3a7b0f12",
   "metadata": {},
   "outputs": [],
   "source": [
    "def compute_cost(X, y, w, b, lambda_):\n",
    "    \"\"\"\n",
    "    Computes the cost over all examples\n",
    "    Args:\n",
    "      X : (ndarray Shape (m,n)) data, m examples by n features\n",
    "      y : (array_like Shape (m,)) target value \n",
    "      w : (array_like Shape (n,)) Values of parameters of the model      \n",
    "      b : scalar Values of bias parameter of the model\n",
    "      lambda_: (scalar) normalization parameter\n",
    "    Returns:\n",
    "      total_cost: (scalar)         cost \n",
    "    \"\"\"\n",
    "\n",
    "    m, n = X.shape\n",
    "    total_cost = 0\n",
    "    curr_cost = 0\n",
    "    regularized_constant = 0\n",
    "    \n",
    "    # compute initial logistic regression cost\n",
    "    for i in range(m):\n",
    "        f_wb = sigmoid(np.dot(X[i], w) + b)\n",
    "        curr_cost = ((-1 * y[i] * np.log(f_wb)) - \n",
    "                       (1 - y[i]) * np.log((1 - f_wb)))\n",
    "        \n",
    "        # calculate the lambda constant\n",
    "        regularized_constant = 0\n",
    "        for j in range(n):\n",
    "            regularized_constant += w[j] ** 2\n",
    "        regularized_constant = (lambda_ * regularized_constant) / (2 * m)\n",
    "        \n",
    "        total_cost += (curr_cost + regularized_constant)\n",
    "    \n",
    "    total_cost = -1 * total_cost / m\n",
    "    \n",
    "\n",
    "    return total_cost"
   ]
  },
  {
   "cell_type": "markdown",
   "id": "56ffa933",
   "metadata": {},
   "source": [
    "Here, I will run my compute_cost with an initial w and b equal to 0. This is more to help me with troubleshooting any errors that might arise as zeroes will not change the regularized constant section."
   ]
  },
  {
   "cell_type": "code",
   "execution_count": 38,
   "id": "3cdd40e4",
   "metadata": {},
   "outputs": [
    {
     "name": "stdout",
     "output_type": "stream",
     "text": [
      "Cost at initial w (zeros): -0.693\n"
     ]
    }
   ],
   "source": [
    "m, n = X_train.shape\n",
    "\n",
    "# Compute and display cost with w initialized to zeroes\n",
    "initial_w = np.zeros(n)\n",
    "initial_b = 0.\n",
    "initial_lambda = 1.\n",
    "cost = compute_cost(X_train, y_train, initial_w, initial_b, initial_lambda)\n",
    "print('Cost at initial w (zeros): {:.3f}'.format(cost))"
   ]
  },
  {
   "cell_type": "markdown",
   "id": "3430918e",
   "metadata": {},
   "source": [
    "### 4.3 - Regularized gradient for logistic regression\n",
    "Here, I implement the compute_gradient function from homework 5, this time making use of the lambda placeholder that was present but unused in the last homework."
   ]
  },
  {
   "cell_type": "code",
   "execution_count": 39,
   "id": "aa1e70fd",
   "metadata": {},
   "outputs": [],
   "source": [
    "def compute_gradient(X, y, w, b, lambda_): \n",
    "    \"\"\"\n",
    "    Computes the gradient for logistic regression \n",
    " \n",
    "    Args:\n",
    "      X : (ndarray Shape (m,n)) variable such as house size \n",
    "      y : (array_like Shape (m,1)) actual value \n",
    "      w : (array_like Shape (n,1)) values of parameters of the model      \n",
    "      b : (scalar)                 value of parameter of the model \n",
    "      lambda_: (scalar) normalization parameter\n",
    "    Returns\n",
    "      dj_dw: (array_like Shape (n,1)) The gradient of the cost w.r.t. the parameters w. \n",
    "      dj_db: (scalar)                The gradient of the cost w.r.t. the parameter b. \n",
    "    \"\"\"\n",
    "    m, n = X.shape\n",
    "    dj_dw = np.zeros(w.shape)\n",
    "    dj_db = 0.\n",
    "\n",
    "    for i in range(m):\n",
    "        f_wb = sigmoid(np.dot(X[i], w) + b)\n",
    "        dj_db += (f_wb - y[i])\n",
    "        for j in range(n):\n",
    "            dj_dw[j] += ((f_wb - y[i]) * X[i][j]) + ((lambda_ / m) * w[j])\n",
    "            \n",
    "    dj_dw = dj_dw / m\n",
    "    dj_db = dj_db / m\n",
    "\n",
    "        \n",
    "    return dj_db, dj_dw"
   ]
  },
  {
   "cell_type": "markdown",
   "id": "056d93d5",
   "metadata": {},
   "source": [
    "Here, I will run my compute_gradient with an initial w and b equal to 0. This is more to help me with troubleshooting any errors that might arise as zeroes will not change the regularized constant section."
   ]
  },
  {
   "cell_type": "code",
   "execution_count": 40,
   "id": "3c93dc5e",
   "metadata": {},
   "outputs": [
    {
     "name": "stdout",
     "output_type": "stream",
     "text": [
      "dj_db at initial w (zeros):0.1274165202108963\n",
      "dj_dw at initial w (zeros):[-0.3529633348145923, -0.20073899267749487, -0.35905873406226524, -0.3427883916743645, -0.17336106608943685, -0.2884195793200141, -0.33668471935543093, -0.3754869934056591, -0.15979358346446093, 0.006206885058401443, -0.2742049681145695, 0.004014599499701369, -0.2688898779301959, -0.26506798396292136, 0.03240174076973867, -0.14166294704487786, -0.12267644749050105, -0.1972854214005769, 0.003153220271648589, -0.03769908166157324, -0.3754096049015078, -0.22090910288224022, -0.3785331400409052, -0.3547989256038203, -0.20377511364437365, -0.2857432355691958, -0.31891661202522464, -0.38368324447763913, -0.20127519131440294, -0.1565897851978686]\n"
     ]
    }
   ],
   "source": [
    "# Compute and display gradient with w initialized to zeroes\n",
    "initial_w = np.zeros(n)\n",
    "initial_b = 0.\n",
    "initial_lambda = 1.\n",
    "\n",
    "dj_db, dj_dw = compute_gradient(X_train, y_train, initial_w, initial_b, initial_lambda)\n",
    "print(f'dj_db at initial w (zeros):{dj_db}' )\n",
    "print(f'dj_dw at initial w (zeros):{dj_dw.tolist()}' )"
   ]
  },
  {
   "cell_type": "markdown",
   "id": "f61fd18e",
   "metadata": {},
   "source": [
    "### 4.3 - Learning parameters using gradient descent\n",
    "Here, I implement the gradient_descent function present in homework 5. No edits are needed to this function as the regularization is implemented in previous steps."
   ]
  },
  {
   "cell_type": "code",
   "execution_count": 41,
   "id": "e99f11c1",
   "metadata": {},
   "outputs": [],
   "source": [
    "def gradient_descent(X, y, w_in, b_in, cost_function, gradient_function, alpha, num_iters, lambda_): \n",
    "    \"\"\"\n",
    "    Performs batch gradient descent to learn theta. Updates theta by taking \n",
    "    num_iters gradient steps with learning rate alpha\n",
    "    \n",
    "    Args:\n",
    "      X :    (array_like Shape (m, n)\n",
    "      y :    (array_like Shape (m,))\n",
    "      w_in : (array_like Shape (n,))  Initial values of parameters of the model\n",
    "      b_in : (scalar)                 Initial value of parameter of the model\n",
    "      cost_function:                  function to compute cost\n",
    "      alpha : (float)                 Learning rate\n",
    "      num_iters : (int)               number of iterations to run gradient descent\n",
    "      lambda_ (scalar, float)         regularization constant\n",
    "      \n",
    "    Returns:\n",
    "      w : (array_like Shape (n,)) Updated values of parameters of the model after\n",
    "          running gradient descent\n",
    "      b : (scalar)                Updated value of parameter of the model after\n",
    "          running gradient descent\n",
    "    \"\"\"\n",
    "    \n",
    "    # number of training examples\n",
    "    m = len(X)\n",
    "    \n",
    "    # An array to store cost J and w's at each iteration primarily for graphing later\n",
    "    J_history = []\n",
    "    w_history = []\n",
    "    \n",
    "    for i in range(num_iters):\n",
    "\n",
    "        # Calculate the gradient and update the parameters\n",
    "        dj_db, dj_dw = compute_gradient(X, y, w_in, b_in, lambda_)   \n",
    "\n",
    "        # Update Parameters using w, b, alpha and gradient\n",
    "        w_in = w_in - (alpha * dj_dw)               \n",
    "        b_in = b_in - (alpha * dj_db)              \n",
    "       \n",
    "        # Save cost J at each iteration\n",
    "        if i<100000:      # prevent resource exhaustion \n",
    "            cost =  cost_function(X, y, w_in, b_in, lambda_)\n",
    "            J_history.append(cost)\n",
    "\n",
    "        # Print cost every at intervals 10 times or as many iterations if < 10\n",
    "        if i% math.ceil(num_iters/10) == 0 or i == (num_iters-1):\n",
    "            w_history.append(w_in)\n",
    "            print(f\"Iteration {i:4}: Cost {float(J_history[-1]):8.2f}   \")\n",
    "        \n",
    "    return w_in, b_in, J_history, w_history #return w and J,w history for graphing"
   ]
  },
  {
   "cell_type": "code",
   "execution_count": 42,
   "id": "d0aa7a3e",
   "metadata": {},
   "outputs": [
    {
     "name": "stdout",
     "output_type": "stream",
     "text": [
      "Iteration    0: Cost    -0.66   \n",
      "Iteration 1000: Cost    -0.24   \n",
      "Iteration 2000: Cost    -0.18   \n",
      "Iteration 3000: Cost    -0.15   \n",
      "Iteration 4000: Cost    -0.14   \n",
      "Iteration 5000: Cost    -0.13   \n",
      "Iteration 6000: Cost    -0.12   \n",
      "Iteration 7000: Cost    -0.12   \n",
      "Iteration 8000: Cost    -0.11   \n",
      "Iteration 9000: Cost    -0.11   \n",
      "Iteration 9999: Cost    -0.10   \n"
     ]
    }
   ],
   "source": [
    "np.random.seed(1)\n",
    "intial_w = 0.01 * (np.random.rand(2).reshape(-1,1) - 0.5)\n",
    "initial_b = -0.5\n",
    "\n",
    "\n",
    "# Some gradient descent settings\n",
    "iterations = 10000\n",
    "alpha = 0.001\n",
    "lambda_ = 0.01\n",
    "\n",
    "w,b, J_history,_ = gradient_descent(X_train ,y_train, initial_w, initial_b, \n",
    "                                   compute_cost, compute_gradient, alpha, iterations, lambda_)"
   ]
  },
  {
   "cell_type": "markdown",
   "id": "84554d26",
   "metadata": {},
   "source": [
    "## 5 - Visualizing the learning curve\n",
    "Below is the learning curve of iterations via cost as the compute_gradient function runs. This uses the code defined in homework 4 to visualize the learning curve."
   ]
  },
  {
   "cell_type": "code",
   "execution_count": 43,
   "id": "c15f6103",
   "metadata": {},
   "outputs": [],
   "source": [
    "def plot_cost_versus_iteration(hist):\n",
    "    plt.plot(hist, c='b',label='Cost')\n",
    "    plt.title(\"Cost vs. iteration\"); \n",
    "    plt.ylabel('Cost')             ;  \n",
    "    plt.xlabel('iteration step')   ;  \n",
    "    plt.show()"
   ]
  },
  {
   "cell_type": "code",
   "execution_count": 44,
   "id": "34cbe817",
   "metadata": {},
   "outputs": [
    {
     "data": {
      "image/png": "[encoded data removed]",
      "text/plain": [
       "<Figure size 432x288 with 1 Axes>"
      ]
     },
     "metadata": {
      "needs_background": "light"
     },
     "output_type": "display_data"
    }
   ],
   "source": [
    "plot_cost_versus_iteration(J_history)"
   ]
  },
  {
   "cell_type": "markdown",
   "id": "15fded34",
   "metadata": {},
   "source": [
    "## 6 - Prediction\n",
    "Here, I take previous work from homework 5 to predict whether a given instance is malignant (1) or benign (0). This uses the w and b computed during gradient descent to make a prediction and predicts 0 if the result is less than 0.5, 1 if greater."
   ]
  },
  {
   "cell_type": "code",
   "execution_count": 45,
   "id": "b2c70661",
   "metadata": {},
   "outputs": [],
   "source": [
    "def predict(X, w, b): \n",
    "    \"\"\"\n",
    "    Predict whether the label is 0 or 1 using learned logistic\n",
    "    regression parameters w\n",
    "    \n",
    "    Args:\n",
    "    X : (ndarray Shape (m, n))\n",
    "    w : (array_like Shape (n,))      Parameters of the model\n",
    "    b : (scalar, float)              Parameter of the model\n",
    "\n",
    "    Returns:\n",
    "    p: (ndarray (m,1))\n",
    "        The predictions for X using a threshold at 0.5\n",
    "    \"\"\"\n",
    "    # number of training examples\n",
    "    m, n = X.shape   \n",
    "    p = np.zeros(m)\n",
    "   \n",
    "    for i in range(m):\n",
    "        f_wb = sigmoid(np.dot(X[i], w) + b)\n",
    "        p[i] = 0 if (f_wb < 0.5) else 1\n",
    "    \n",
    "    return p"
   ]
  },
  {
   "cell_type": "code",
   "execution_count": 46,
   "id": "2783e2be",
   "metadata": {},
   "outputs": [
    {
     "name": "stdout",
     "output_type": "stream",
     "text": [
      "Train Accuracy: 97.539543\n"
     ]
    }
   ],
   "source": [
    "#Compute accuracy on our training set\n",
    "p = predict(X_train, w,b)\n",
    "print('Train Accuracy: %f'%(np.mean(p == y_train) * 100))"
   ]
  },
  {
   "cell_type": "markdown",
   "id": "6cf9d327",
   "metadata": {},
   "source": [
    "As you can see, after gradient descent my model has a 97.5% accuracy rate. This is also what the authors of the dataset estimate as their model's accuracy, so I am confident in it."
   ]
  }
 ],
 "metadata": {
  "kernelspec": {
   "display_name": "Python 3 (ipykernel)",
   "language": "python",
   "name": "python3"
  },
  "language_info": {
   "codemirror_mode": {
    "name": "ipython",
    "version": 3
   },
   "file_extension": ".py",
   "mimetype": "text/x-python",
   "name": "python",
   "nbconvert_exporter": "python",
   "pygments_lexer": "ipython3",
   "version": "3.9.12"
  }
 },
 "nbformat": 4,
 "nbformat_minor": 5
}
