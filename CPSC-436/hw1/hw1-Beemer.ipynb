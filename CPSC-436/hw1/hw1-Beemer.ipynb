{
 "cells": [
  {
   "cell_type": "markdown",
   "id": "81124e03",
   "metadata": {},
   "source": [
    "## Goals\n",
    "- Learn how to use Jupyter and play with Python basics"
   ]
  },
  {
   "cell_type": "markdown",
   "id": "2a7184e3",
   "metadata": {},
   "source": [
    "## 1. Python Basics"
   ]
  },
  {
   "cell_type": "markdown",
   "id": "9e5e9867",
   "metadata": {},
   "source": [
    "### 1) loop\n",
    "Write a for loop to check each number i in the range of 0~10. If i is even, print 2*i, other write print i+3\n"
   ]
  },
  {
   "cell_type": "code",
   "execution_count": 1,
   "id": "d466d675",
   "metadata": {},
   "outputs": [
    {
     "name": "stdout",
     "output_type": "stream",
     "text": [
      "0\n",
      "4\n",
      "4\n",
      "6\n",
      "8\n",
      "8\n",
      "12\n",
      "10\n",
      "16\n",
      "12\n"
     ]
    }
   ],
   "source": [
    "for i in range(10):\n",
    "    if (i % 2) == 0:\n",
    "        print(2*i)\n",
    "    else:\n",
    "        print(i+3)"
   ]
  },
  {
   "cell_type": "markdown",
   "id": "629c2fd3",
   "metadata": {},
   "source": [
    "### 2) function\n",
    "Define a simple function that returns the square of a number that passes into the function as a parameter. Test your function using 2 and -3, respectively."
   ]
  },
  {
   "cell_type": "code",
   "execution_count": 3,
   "id": "57881062",
   "metadata": {},
   "outputs": [
    {
     "data": {
      "text/plain": [
       "4"
      ]
     },
     "execution_count": 3,
     "metadata": {},
     "output_type": "execute_result"
    }
   ],
   "source": [
    "def square(i):\n",
    "    return i**2\n",
    "\n",
    "square(2)\n",
    "square(-3)"
   ]
  },
  {
   "cell_type": "markdown",
   "id": "0455af70",
   "metadata": {},
   "source": [
    "## 2. Common Data Structures in Python"
   ]
  },
  {
   "cell_type": "markdown",
   "id": "190125c6",
   "metadata": {},
   "source": [
    "### 1) Working with lists\n",
    "Define two lists xList = [1,2,3] and yList = [4,5] and then append yList to Xlist. Iterate over the new Xlist and print each value."
   ]
  },
  {
   "cell_type": "code",
   "execution_count": 4,
   "id": "abc89c58",
   "metadata": {},
   "outputs": [
    {
     "name": "stdout",
     "output_type": "stream",
     "text": [
      "1\n",
      "2\n",
      "3\n",
      "4\n",
      "5\n"
     ]
    }
   ],
   "source": [
    "xList = [1, 2, 3]\n",
    "yList = [4, 5]\n",
    "xList = xList + yList\n",
    "for item in xList:\n",
    "    print(item)"
   ]
  },
  {
   "cell_type": "markdown",
   "id": "a1833cd3",
   "metadata": {},
   "source": [
    "### 2) Working with tuples\n",
    "Define a tuple with mixed datatype values (1, \"Diabetes\", 3.4) and print the last two values."
   ]
  },
  {
   "cell_type": "code",
   "execution_count": null,
   "id": "a54c3df5",
   "metadata": {},
   "outputs": [],
   "source": [
    "xTuple = (1, \"Diabetes\", 3.4)\n",
    "print(xTuple[1])\n",
    "print(xTuple[2])"
   ]
  },
  {
   "cell_type": "markdown",
   "id": "55e20fdc",
   "metadata": {},
   "source": [
    "### 3) Working with Dictionaries\n",
    "Dictionaries are useful for storing and retrieving data as key-value pairs. Define a short dictionary of molar masses. The keys are molecular formulas, and the values are the corresponding molar masses.mw = {'CH4': 16.04, 'H2O': 18.02, 'O2':32.00}. Add a new key-value pair ['CO2': 44.01] and then print all the key-value pairs in the dictionary."
   ]
  },
  {
   "cell_type": "code",
   "execution_count": 5,
   "id": "bcf20eba",
   "metadata": {},
   "outputs": [
    {
     "name": "stdout",
     "output_type": "stream",
     "text": [
      "{'CH4': 16.04, 'H20': 18.02, 'O2': 32.0, 'CO2': 44.01}\n"
     ]
    }
   ],
   "source": [
    "xDictionary = {\n",
    "    'CH4': 16.04,\n",
    "    'H20': 18.02,\n",
    "    'O2': 32.00\n",
    "}\n",
    "xDictionary['CO2'] = 44.01\n",
    "print(xDictionary)"
   ]
  }
 ],
 "metadata": {
  "kernelspec": {
   "display_name": "Python 3 (ipykernel)",
   "language": "python",
   "name": "python3"
  },
  "language_info": {
   "codemirror_mode": {
    "name": "ipython",
    "version": 3
   },
   "file_extension": ".py",
   "mimetype": "text/x-python",
   "name": "python",
   "nbconvert_exporter": "python",
   "pygments_lexer": "ipython3",
   "version": "3.9.12"
  }
 },
 "nbformat": 4,
 "nbformat_minor": 5
}
